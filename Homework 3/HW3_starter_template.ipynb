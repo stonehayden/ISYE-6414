{
 "cells": [
  {
   "cell_type": "markdown",
   "metadata": {},
   "source": [
    "# Background\n",
    "\n",
    "The fishing industry uses numerous measurements to describe a specific fish.  Our goal is to predict the weight of a fish based on a number of these measurements and determine if any of these measurements are insignificant in determining the weigh of a product.  See below for the description of these measurments.  \n",
    "\n",
    "## Data Description\n",
    "\n",
    "The data consists of the following variables:\n",
    "\n",
    "1. **Weight**: weight of fish in g (numerical)\n",
    "2. **Species**: species name of fish (categorical)\n",
    "3. **Body.Height**: height of body of fish in cm (numerical)\n",
    "4. **Total.Length**: length of fish from mouth to tail in cm (numerical)\n",
    "5. **Diagonal.Length**: length of diagonal of main body of fish in cm (numerical)\n",
    "6. **Height**: height of head of fish in cm (numerical)\n",
    "7. **Width**: width of head of fish in cm (numerical)"
   ]
  },
  {
   "cell_type": "markdown",
   "metadata": {},
   "source": [
    "## Read the data"
   ]
  },
  {
   "cell_type": "code",
   "execution_count": 3,
   "metadata": {},
   "outputs": [],
   "source": [
    "# Import library you may need\n",
    "library(car)\n",
    "# Read the data set\n",
    "fishfull = read.csv(\"Fish.csv\",header=T, fileEncoding = 'UTF-8-BOM')\n",
    "row.cnt = nrow(fishfull)\n",
    "# Split the data into training and testing sets\n",
    "fishtest = fishfull[(row.cnt-9):row.cnt,]\n",
    "fish = fishfull[1:(row.cnt-10),]"
   ]
  },
  {
   "cell_type": "markdown",
   "metadata": {},
   "source": [
    "*Please use fish as your data set for the following questions unless otherwise stated.*\n",
    "\n",
    "# Question 1: Exploratory Data Analysis [8 points]\n",
    "\n",
    "**(a) Create a box plot comparing the response variable, *Weight*, across the multiple *species*.  Based on this box plot, does there appear to be a relationship between the predictor and the response?**"
   ]
  },
  {
   "cell_type": "code",
   "execution_count": 5,
   "metadata": {
    "lines_to_next_cell": 0,
    "scrolled": true
   },
   "outputs": [
    {
     "data": {
      "image/png": "[encoded data removed]",
      "text/plain": [
       "plot without title"
      ]
     },
     "metadata": {},
     "output_type": "display_data"
    }
   ],
   "source": [
    "boxplot(Weight~Species, data=fish, col='grey')"
   ]
  },
  {
   "cell_type": "markdown",
   "metadata": {},
   "source": [
    "There appears to be a relationship between the predictor and the response as the medians are different among all species."
   ]
  },
  {
   "cell_type": "markdown",
   "metadata": {},
   "source": [
    "**(b) Create scatterplots of the response, *Weight*, against each quantitative predictor, namely **Body.Height**, **Total.Length**, **Diagonal.Length**, **Height**, and **Width**.  Describe the general trend of each plot.  Are there any potential outliers?**"
   ]
  },
  {
   "cell_type": "code",
   "execution_count": 6,
   "metadata": {
    "lines_to_next_cell": 0
   },
   "outputs": [
    {
     "data": {
      "image/png": "[encoded data removed]",
      "text/plain": [
       "plot without title"
      ]
     },
     "metadata": {},
     "output_type": "display_data"
    }
   ],
   "source": [
    "par(mfrow=c(2,3))\n",
    "for (i in c(3:7)){\n",
    "    col_name = names(fish[i])\n",
    "    plot(fish[,i], fish$Weight, xlab= col_name, ylab = \"Weight\")}"
   ]
  },
  {
   "cell_type": "markdown",
   "metadata": {},
   "source": [
    "All 5 predictors appear to have a positive relationship with Weight but not exactly linear. Additionally, there are potential outliers shown in all graphs with large weights and not as large predictor values. "
   ]
  },
  {
   "cell_type": "markdown",
   "metadata": {},
   "source": [
    "**(c) Display the correlations between each of the quantitative variables.  Interpret the correlations in the context of the relationships of the predictors to the response and in the context of multicollinearity.**"
   ]
  },
  {
   "cell_type": "code",
   "execution_count": 7,
   "metadata": {
    "lines_to_next_cell": 0
   },
   "outputs": [
    {
     "data": {
      "text/html": [
       "<table>\n",
       "<thead><tr><th></th><th scope=col>Weight</th><th scope=col>Body.Height</th><th scope=col>Total.Length</th><th scope=col>Diagonal.Length</th><th scope=col>Height</th><th scope=col>Width</th></tr></thead>\n",
       "<tbody>\n",
       "\t<tr><th scope=row>Weight</th><td>1.0000000</td><td>0.8616894</td><td>0.8654773</td><td>0.8688250</td><td>0.6879801</td><td>0.8456717</td></tr>\n",
       "\t<tr><th scope=row>Body.Height</th><td>0.8616894</td><td>1.0000000</td><td>0.9995134</td><td>0.9919502</td><td>0.6268604</td><td>0.8661882</td></tr>\n",
       "\t<tr><th scope=row>Total.Length</th><td>0.8654773</td><td>0.9995134</td><td>1.0000000</td><td>0.9940896</td><td>0.6422261</td><td>0.8728030</td></tr>\n",
       "\t<tr><th scope=row>Diagonal.Length</th><td>0.8688250</td><td>0.9919502</td><td>0.9940896</td><td>1.0000000</td><td>0.7052116</td><td>0.8770361</td></tr>\n",
       "\t<tr><th scope=row>Height</th><td>0.6879801</td><td>0.6268604</td><td>0.6422261</td><td>0.7052116</td><td>1.0000000</td><td>0.7908491</td></tr>\n",
       "\t<tr><th scope=row>Width</th><td>0.8456717</td><td>0.8661882</td><td>0.8728030</td><td>0.8770361</td><td>0.7908491</td><td>1.0000000</td></tr>\n",
       "</tbody>\n",
       "</table>\n"
      ],
      "text/latex": [
       "\\begin{tabular}{r|llllll}\n",
       "  & Weight & Body.Height & Total.Length & Diagonal.Length & Height & Width\\\\\n",
       "\\hline\n",
       "\tWeight & 1.0000000 & 0.8616894 & 0.8654773 & 0.8688250 & 0.6879801 & 0.8456717\\\\\n",
       "\tBody.Height & 0.8616894 & 1.0000000 & 0.9995134 & 0.9919502 & 0.6268604 & 0.8661882\\\\\n",
       "\tTotal.Length & 0.8654773 & 0.9995134 & 1.0000000 & 0.9940896 & 0.6422261 & 0.8728030\\\\\n",
       "\tDiagonal.Length & 0.8688250 & 0.9919502 & 0.9940896 & 1.0000000 & 0.7052116 & 0.8770361\\\\\n",
       "\tHeight & 0.6879801 & 0.6268604 & 0.6422261 & 0.7052116 & 1.0000000 & 0.7908491\\\\\n",
       "\tWidth & 0.8456717 & 0.8661882 & 0.8728030 & 0.8770361 & 0.7908491 & 1.0000000\\\\\n",
       "\\end{tabular}\n"
      ],
      "text/markdown": [
       "\n",
       "| <!--/--> | Weight | Body.Height | Total.Length | Diagonal.Length | Height | Width |\n",
       "|---|---|---|---|---|---|---|\n",
       "| Weight | 1.0000000 | 0.8616894 | 0.8654773 | 0.8688250 | 0.6879801 | 0.8456717 |\n",
       "| Body.Height | 0.8616894 | 1.0000000 | 0.9995134 | 0.9919502 | 0.6268604 | 0.8661882 |\n",
       "| Total.Length | 0.8654773 | 0.9995134 | 1.0000000 | 0.9940896 | 0.6422261 | 0.8728030 |\n",
       "| Diagonal.Length | 0.8688250 | 0.9919502 | 0.9940896 | 1.0000000 | 0.7052116 | 0.8770361 |\n",
       "| Height | 0.6879801 | 0.6268604 | 0.6422261 | 0.7052116 | 1.0000000 | 0.7908491 |\n",
       "| Width | 0.8456717 | 0.8661882 | 0.8728030 | 0.8770361 | 0.7908491 | 1.0000000 |\n",
       "\n"
      ],
      "text/plain": [
       "                Weight    Body.Height Total.Length Diagonal.Length Height   \n",
       "Weight          1.0000000 0.8616894   0.8654773    0.8688250       0.6879801\n",
       "Body.Height     0.8616894 1.0000000   0.9995134    0.9919502       0.6268604\n",
       "Total.Length    0.8654773 0.9995134   1.0000000    0.9940896       0.6422261\n",
       "Diagonal.Length 0.8688250 0.9919502   0.9940896    1.0000000       0.7052116\n",
       "Height          0.6879801 0.6268604   0.6422261    0.7052116       1.0000000\n",
       "Width           0.8456717 0.8661882   0.8728030    0.8770361       0.7908491\n",
       "                Width    \n",
       "Weight          0.8456717\n",
       "Body.Height     0.8661882\n",
       "Total.Length    0.8728030\n",
       "Diagonal.Length 0.8770361\n",
       "Height          0.7908491\n",
       "Width           1.0000000"
      ]
     },
     "metadata": {},
     "output_type": "display_data"
    }
   ],
   "source": [
    "cor(fish[-2])\n"
   ]
  },
  {
   "cell_type": "markdown",
   "metadata": {},
   "source": [
    "Each predictor has a strong positive relationship with the response, weight. However, the predicting variables have strong correlation as well which means that multicollinearity is a potential issue. "
   ]
  },
  {
   "cell_type": "markdown",
   "metadata": {},
   "source": [
    "**(d) Based on this exploratory analysis, is it reasonable to assume a multiple linear regression model for the relationship between *Weight* and the predictor variables?**\n",
    "\n"
   ]
  },
  {
   "cell_type": "markdown",
   "metadata": {},
   "source": [
    "Yes a multiple linear regression model is reasonable."
   ]
  },
  {
   "cell_type": "markdown",
   "metadata": {},
   "source": [
    "# Question 2: Fitting the Multiple Linear Regression Model [8 points]\n",
    "\n",
    "*Create the full model without transforming the response variable or predicting variables using the fish data set.  Do not use fishtest*\n",
    "\n",
    "**(a) Build a multiple linear regression model, called model1, using the response and all predictors.  Display the summary table of the model.**"
   ]
  },
  {
   "cell_type": "code",
   "execution_count": 8,
   "metadata": {
    "lines_to_next_cell": 0
   },
   "outputs": [
    {
     "data": {
      "text/plain": [
       "\n",
       "Call:\n",
       "lm(formula = Weight ~ ., data = fish)\n",
       "\n",
       "Residuals:\n",
       "    Min      1Q  Median      3Q     Max \n",
       "-211.37  -70.59  -23.50   42.42 1335.87 \n",
       "\n",
       "Coefficients:\n",
       "                 Estimate Std. Error t value Pr(>|t|)    \n",
       "(Intercept)       -813.90     218.34  -3.728 0.000282 ***\n",
       "SpeciesParkki       79.34     132.71   0.598 0.550918    \n",
       "SpeciesPerch        10.41     206.26   0.050 0.959837    \n",
       "SpeciesPike         16.76     233.06   0.072 0.942775    \n",
       "SpeciesRoach       194.03     156.84   1.237 0.218173    \n",
       "SpeciesSmelt       455.78     204.92   2.224 0.027775 *  \n",
       "SpeciesWhitefish    28.31     164.91   0.172 0.863967    \n",
       "Body.Height       -176.87      61.36  -2.882 0.004583 ** \n",
       "Total.Length       266.70      77.75   3.430 0.000797 ***\n",
       "Diagonal.Length    -72.49      49.48  -1.465 0.145267    \n",
       "Height              38.27      22.09   1.732 0.085448 .  \n",
       "Width               29.63      40.54   0.731 0.466080    \n",
       "---\n",
       "Signif. codes:  0 '***' 0.001 '**' 0.01 '*' 0.05 '.' 0.1 ' ' 1\n",
       "\n",
       "Residual standard error: 156.1 on 137 degrees of freedom\n",
       "Multiple R-squared:  0.8419,\tAdjusted R-squared:  0.8292 \n",
       "F-statistic:  66.3 on 11 and 137 DF,  p-value: < 2.2e-16\n"
      ]
     },
     "metadata": {},
     "output_type": "display_data"
    }
   ],
   "source": [
    "model1<-lm(Weight~., data=fish)\n",
    "summary(model1)\n"
   ]
  },
  {
   "cell_type": "markdown",
   "metadata": {},
   "source": []
  },
  {
   "cell_type": "markdown",
   "metadata": {},
   "source": [
    "**(b) Is the overall regression significant at an $\\alpha$ level of 0.01? Explain.**\n"
   ]
  },
  {
   "cell_type": "markdown",
   "metadata": {},
   "source": [
    "We reject the null hypothesis (due to 2.2e-16 < a) and thus the model is statisticlly significant at a level of 0.01."
   ]
  },
  {
   "cell_type": "markdown",
   "metadata": {},
   "source": [
    "**(c) What is the coefficient estimate for *Body.Height*? Interpret this coefficient.**\n"
   ]
  },
  {
   "cell_type": "markdown",
   "metadata": {},
   "source": [
    "Coefficient is -176.87; meaning for every centimeter increase in body height, weight decreases by 176.87 grams."
   ]
  },
  {
   "cell_type": "markdown",
   "metadata": {},
   "source": [
    "**(d) What is the coefficient estimate for the *Species* category Parkki? Interpret this coefficient.**\n",
    "\n"
   ]
  },
  {
   "cell_type": "markdown",
   "metadata": {},
   "source": [
    "Coefficient is 79.34; meaning if the fish is a Parkki, it's expected weight increaes by 79.34 grams compared to Bream"
   ]
  },
  {
   "cell_type": "markdown",
   "metadata": {},
   "source": [
    "# Question 3: Checking for Outliers and Multicollinearity [6 points]\n",
    "\n",
    "**(a) Create a plot for the Cook's Distances. Using a threshold Cook's Distance of 1, identify the row numbers of any outliers.**"
   ]
  },
  {
   "cell_type": "code",
   "execution_count": 11,
   "metadata": {
    "lines_to_next_cell": 0
   },
   "outputs": [
    {
     "name": "stdout",
     "output_type": "stream",
     "text": [
      "Observation 30 is the outler"
     ]
    },
    {
     "data": {
      "image/png": "[encoded data removed]",
      "text/plain": [
       "plot without title"
      ]
     },
     "metadata": {},
     "output_type": "display_data"
    }
   ],
   "source": [
    "cook=cooks.distance(model1)\n",
    "\n",
    "plot(cook)\n",
    "abline(h=1)\n",
    "\n",
    "cat(\"Observation\", which(cook>1), \"is the outler\")"
   ]
  },
  {
   "cell_type": "markdown",
   "metadata": {},
   "source": [
    "**(b) Remove the outlier(s) from the data set and create a new model, called model2, using all predictors with *Weight* as the response.  Display the summary of this model.**"
   ]
  },
  {
   "cell_type": "code",
   "execution_count": 12,
   "metadata": {
    "lines_to_next_cell": 0
   },
   "outputs": [
    {
     "data": {
      "text/plain": [
       "\n",
       "Call:\n",
       "lm(formula = Weight ~ ., data = fish2)\n",
       "\n",
       "Residuals:\n",
       "    Min      1Q  Median      3Q     Max \n",
       "-211.10  -50.18  -14.44   34.04  433.68 \n",
       "\n",
       "Coefficients:\n",
       "                 Estimate Std. Error t value Pr(>|t|)    \n",
       "(Intercept)      -969.766    131.601  -7.369 1.51e-11 ***\n",
       "SpeciesParkki     195.500     80.105   2.441 0.015951 *  \n",
       "SpeciesPerch      174.241    124.404   1.401 0.163608    \n",
       "SpeciesPike      -175.936    140.605  -1.251 0.212983    \n",
       "SpeciesRoach      141.867     94.319   1.504 0.134871    \n",
       "SpeciesSmelt      489.714    123.174   3.976 0.000113 ***\n",
       "SpeciesWhitefish  122.277     99.293   1.231 0.220270    \n",
       "Body.Height       -76.321     37.437  -2.039 0.043422 *  \n",
       "Total.Length       74.822     48.319   1.549 0.123825    \n",
       "Diagonal.Length    34.349     30.518   1.126 0.262350    \n",
       "Height             10.000     13.398   0.746 0.456692    \n",
       "Width              -8.339     24.483  -0.341 0.733924    \n",
       "---\n",
       "Signif. codes:  0 '***' 0.001 '**' 0.01 '*' 0.05 '.' 0.1 ' ' 1\n",
       "\n",
       "Residual standard error: 93.84 on 136 degrees of freedom\n",
       "Multiple R-squared:  0.9385,\tAdjusted R-squared:  0.9335 \n",
       "F-statistic: 188.6 on 11 and 136 DF,  p-value: < 2.2e-16\n"
      ]
     },
     "metadata": {},
     "output_type": "display_data"
    }
   ],
   "source": [
    "fish2<-fish[-30,]\n",
    "model2<-lm(Weight~., data=fish2)\n",
    "summary(model2)\n"
   ]
  },
  {
   "cell_type": "markdown",
   "metadata": {},
   "source": []
  },
  {
   "cell_type": "markdown",
   "metadata": {},
   "source": [
    "**(c) Display the VIF of each predictor for model2. Using a VIF threshold of max(10, 1/(1-$R^2$) what conclusions can you draw?**"
   ]
  },
  {
   "cell_type": "code",
   "execution_count": 15,
   "metadata": {
    "lines_to_next_cell": 0
   },
   "outputs": [
    {
     "name": "stdout",
     "output_type": "stream",
     "text": [
      "VIF threshold: 16.25583"
     ]
    }
   ],
   "source": [
    "cat(\"VIF threshold:\", max(10, 1/(1-summary(model2)$r.squared)))\n"
   ]
  },
  {
   "cell_type": "code",
   "execution_count": 16,
   "metadata": {},
   "outputs": [
    {
     "data": {
      "text/html": [
       "<table>\n",
       "<thead><tr><th></th><th scope=col>GVIF</th><th scope=col>Df</th><th scope=col>GVIF^(1/(2*Df))</th></tr></thead>\n",
       "<tbody>\n",
       "\t<tr><th scope=row>Species</th><td>1545.55017</td><td>6         </td><td> 1.843983 </td></tr>\n",
       "\t<tr><th scope=row>Body.Height</th><td>2371.15420</td><td>1         </td><td>48.694499 </td></tr>\n",
       "\t<tr><th scope=row>Total.Length</th><td>4540.47698</td><td>1         </td><td>67.383062 </td></tr>\n",
       "\t<tr><th scope=row>Diagonal.Length</th><td>2126.64985</td><td>1         </td><td>46.115614 </td></tr>\n",
       "\t<tr><th scope=row>Height</th><td>  56.21375</td><td>1         </td><td> 7.497583 </td></tr>\n",
       "\t<tr><th scope=row>Width</th><td>  29.01683</td><td>1         </td><td> 5.386727 </td></tr>\n",
       "</tbody>\n",
       "</table>\n"
      ],
      "text/latex": [
       "\\begin{tabular}{r|lll}\n",
       "  & GVIF & Df & GVIF\\textasciicircum{}(1/(2*Df))\\\\\n",
       "\\hline\n",
       "\tSpecies & 1545.55017 & 6          &  1.843983 \\\\\n",
       "\tBody.Height & 2371.15420 & 1          & 48.694499 \\\\\n",
       "\tTotal.Length & 4540.47698 & 1          & 67.383062 \\\\\n",
       "\tDiagonal.Length & 2126.64985 & 1          & 46.115614 \\\\\n",
       "\tHeight &   56.21375 & 1          &  7.497583 \\\\\n",
       "\tWidth &   29.01683 & 1          &  5.386727 \\\\\n",
       "\\end{tabular}\n"
      ],
      "text/markdown": [
       "\n",
       "| <!--/--> | GVIF | Df | GVIF^(1/(2*Df)) |\n",
       "|---|---|---|---|\n",
       "| Species | 1545.55017 | 6          |  1.843983  |\n",
       "| Body.Height | 2371.15420 | 1          | 48.694499  |\n",
       "| Total.Length | 4540.47698 | 1          | 67.383062  |\n",
       "| Diagonal.Length | 2126.64985 | 1          | 46.115614  |\n",
       "| Height |   56.21375 | 1          |  7.497583  |\n",
       "| Width |   29.01683 | 1          |  5.386727  |\n",
       "\n"
      ],
      "text/plain": [
       "                GVIF       Df GVIF^(1/(2*Df))\n",
       "Species         1545.55017 6   1.843983      \n",
       "Body.Height     2371.15420 1  48.694499      \n",
       "Total.Length    4540.47698 1  67.383062      \n",
       "Diagonal.Length 2126.64985 1  46.115614      \n",
       "Height            56.21375 1   7.497583      \n",
       "Width             29.01683 1   5.386727      "
      ]
     },
     "metadata": {},
     "output_type": "display_data"
    }
   ],
   "source": [
    "vif(model2)"
   ]
  },
  {
   "cell_type": "markdown",
   "metadata": {},
   "source": [
    "Multicollinearity is high with all predictors using a VIF of 16.25583"
   ]
  },
  {
   "cell_type": "markdown",
   "metadata": {},
   "source": [
    "\n"
   ]
  },
  {
   "cell_type": "markdown",
   "metadata": {},
   "source": [
    "# Question 4: Checking Model Assumptions [6 points]\n",
    "\n",
    "*Please use the cleaned data set, which have the outlier(s) removed, and model2 for answering the following questions.*\n",
    "\n",
    "**(a) Create scatterplots of the standardized residuals of model2 versus each quantitative predictor. Does the linearity assumption appear to hold for all predictors?**"
   ]
  },
  {
   "cell_type": "code",
   "execution_count": 18,
   "metadata": {
    "lines_to_next_cell": 0
   },
   "outputs": [
    {
     "data": {
      "image/png": "[encoded data removed]",
      "text/plain": [
       "plot without title"
      ]
     },
     "metadata": {},
     "output_type": "display_data"
    }
   ],
   "source": [
    "resids =rstandard(model2)\n",
    "par(mfrow=c(2,3))\n",
    "for (i in c(3:7)){\n",
    "col_name = names(fish2[i])\n",
    "plot(fish2[,i], resids, xlab= col_name, ylab = \"S. Residuals\")\n",
    "abline(h=0, col=\"red\")\n",
    "lines(lowess(fish2[,i], resids), col='green')\n",
    "}\n"
   ]
  },
  {
   "cell_type": "markdown",
   "metadata": {},
   "source": [
    "Linearity assumption does not appear to hold for all predictors as the trend line for all residuals appear to have a U-shape to them."
   ]
  },
  {
   "cell_type": "markdown",
   "metadata": {},
   "source": [
    "**(b) Create a scatter plot of the standardized residuals of model2 versus the fitted values of model2.  Does the constant variance assumption appear to hold?  Do the errors appear uncorrelated?**"
   ]
  },
  {
   "cell_type": "code",
   "execution_count": 20,
   "metadata": {
    "lines_to_next_cell": 0
   },
   "outputs": [
    {
     "data": {
      "image/png": "[encoded data removed]",
      "text/plain": [
       "plot without title"
      ]
     },
     "metadata": {},
     "output_type": "display_data"
    }
   ],
   "source": [
    "plot(model2$fitted.values, resids, xlab=\"fitted values\", ylab=\"residuals\")\n",
    "lines(lowess(model2$fitted.values, resids), col='green')\n",
    "abline(h=0, col=\"red\")"
   ]
  },
  {
   "cell_type": "markdown",
   "metadata": {},
   "source": [
    "Variance appears to increase as fitted values increase, meaning that constant variance does not hold.\n",
    "\n",
    "There is a potential cluster near ~200 in fitted values but largely the errors appear uncorrelated."
   ]
  },
  {
   "cell_type": "markdown",
   "metadata": {},
   "source": [
    "**(c) Create a histogram and normal QQ plot for the standardized residuals. What conclusions can you draw from these plots?**"
   ]
  },
  {
   "cell_type": "code",
   "execution_count": 22,
   "metadata": {
    "lines_to_next_cell": 0
   },
   "outputs": [
    {
     "data": {
      "image/png": "[encoded data removed]",
      "text/plain": [
       "Plot with title \"Histogram of resids\""
      ]
     },
     "metadata": {},
     "output_type": "display_data"
    },
    {
     "data": {
      "text/html": [
       "<dl class=dl-horizontal>\n",
       "\t<dt>37</dt>\n",
       "\t\t<dd>36</dd>\n",
       "\t<dt>124</dt>\n",
       "\t\t<dd>123</dd>\n",
       "</dl>\n"
      ],
      "text/latex": [
       "\\begin{description*}\n",
       "\\item[37] 36\n",
       "\\item[124] 123\n",
       "\\end{description*}\n"
      ],
      "text/markdown": [
       "37\n",
       ":   36124\n",
       ":   123\n",
       "\n"
      ],
      "text/plain": [
       " 37 124 \n",
       " 36 123 "
      ]
     },
     "metadata": {},
     "output_type": "display_data"
    },
    {
     "data": {
      "image/png": "[encoded data removed]",
      "text/plain": [
       "plot without title"
      ]
     },
     "metadata": {},
     "output_type": "display_data"
    }
   ],
   "source": [
    "hist(resids, nclass=15)\n",
    "qqPlot(resids)"
   ]
  },
  {
   "cell_type": "markdown",
   "metadata": {},
   "source": [
    "Normality doesn't appear to hold from either chart on the right tails. Transforming the response variable might result in a better model.\n"
   ]
  },
  {
   "cell_type": "markdown",
   "metadata": {},
   "source": [
    "# Question 5: Partial F Test [6 points]\n",
    "\n",
    "**(a) Build a third multiple linear regression model using the cleaned data set without the outlier(s), called model3, using only *Species* and *Total.Length* as predicting variables and *Weight* as the response.  Display the summary table of the model3.**"
   ]
  },
  {
   "cell_type": "code",
   "execution_count": 23,
   "metadata": {
    "lines_to_next_cell": 0
   },
   "outputs": [
    {
     "data": {
      "text/plain": [
       "\n",
       "Call:\n",
       "lm(formula = Weight ~ Species + Total.Length, data = fish2)\n",
       "\n",
       "Residuals:\n",
       "    Min      1Q  Median      3Q     Max \n",
       "-233.83  -56.59  -10.13   34.58  418.30 \n",
       "\n",
       "Coefficients:\n",
       "                 Estimate Std. Error t value Pr(>|t|)    \n",
       "(Intercept)      -730.977     42.449 -17.220  < 2e-16 ***\n",
       "SpeciesParkki      63.129     38.889   1.623    0.107    \n",
       "SpeciesPerch      -23.941     21.745  -1.101    0.273    \n",
       "SpeciesPike      -400.964     33.350 -12.023  < 2e-16 ***\n",
       "SpeciesRoach      -19.876     30.111  -0.660    0.510    \n",
       "SpeciesSmelt      256.408     39.858   6.433 1.85e-09 ***\n",
       "SpeciesWhitefish  -14.971     42.063  -0.356    0.722    \n",
       "Total.Length       40.775      1.181  34.527  < 2e-16 ***\n",
       "---\n",
       "Signif. codes:  0 '***' 0.001 '**' 0.01 '*' 0.05 '.' 0.1 ' ' 1\n",
       "\n",
       "Residual standard error: 94.86 on 140 degrees of freedom\n",
       "Multiple R-squared:  0.9353,\tAdjusted R-squared:  0.9321 \n",
       "F-statistic: 289.1 on 7 and 140 DF,  p-value: < 2.2e-16\n"
      ]
     },
     "metadata": {},
     "output_type": "display_data"
    }
   ],
   "source": [
    "model3<-lm(Weight~Species+Total.Length, data=fish2)\n",
    "\n",
    "summary(model3)\n"
   ]
  },
  {
   "cell_type": "markdown",
   "metadata": {},
   "source": []
  },
  {
   "cell_type": "markdown",
   "metadata": {},
   "source": [
    "**(b) Conduct a partial F-test comparing model3 with model2. What can you conclude using an $\\alpha$ level of 0.01?**"
   ]
  },
  {
   "cell_type": "code",
   "execution_count": 24,
   "metadata": {
    "lines_to_next_cell": 0
   },
   "outputs": [
    {
     "data": {
      "text/html": [
       "<table>\n",
       "<thead><tr><th scope=col>Res.Df</th><th scope=col>RSS</th><th scope=col>Df</th><th scope=col>Sum of Sq</th><th scope=col>F</th><th scope=col>Pr(&gt;F)</th></tr></thead>\n",
       "<tbody>\n",
       "\t<tr><td>140      </td><td>1259746  </td><td>NA       </td><td>      NA </td><td>      NA </td><td>       NA</td></tr>\n",
       "\t<tr><td>136      </td><td>1197659  </td><td> 4       </td><td>62086.66 </td><td>1.762561 </td><td>0.1399744</td></tr>\n",
       "</tbody>\n",
       "</table>\n"
      ],
      "text/latex": [
       "\\begin{tabular}{r|llllll}\n",
       " Res.Df & RSS & Df & Sum of Sq & F & Pr(>F)\\\\\n",
       "\\hline\n",
       "\t 140       & 1259746   & NA        &       NA  &       NA  &        NA\\\\\n",
       "\t 136       & 1197659   &  4        & 62086.66  & 1.762561  & 0.1399744\\\\\n",
       "\\end{tabular}\n"
      ],
      "text/markdown": [
       "\n",
       "| Res.Df | RSS | Df | Sum of Sq | F | Pr(>F) |\n",
       "|---|---|---|---|---|---|\n",
       "| 140       | 1259746   | NA        |       NA  |       NA  |        NA |\n",
       "| 136       | 1197659   |  4        | 62086.66  | 1.762561  | 0.1399744 |\n",
       "\n"
      ],
      "text/plain": [
       "  Res.Df RSS     Df Sum of Sq F        Pr(>F)   \n",
       "1 140    1259746 NA       NA        NA        NA\n",
       "2 136    1197659  4 62086.66  1.762561 0.1399744"
      ]
     },
     "metadata": {},
     "output_type": "display_data"
    }
   ],
   "source": [
    "anova(model3, model2)\n"
   ]
  },
  {
   "cell_type": "markdown",
   "metadata": {},
   "source": [
    "We fail to reject the null hypothesis and so the additional predictors do not provide additional explanatory power. \n"
   ]
  },
  {
   "cell_type": "markdown",
   "metadata": {
    "lines_to_next_cell": 0
   },
   "source": [
    "# Question 6: Reduced Model Residual Analysis and Multicollinearity Test [7 points]\n",
    "\n",
    "**(a) Conduct a multicollinearity test on model3.  Comment on the multicollinearity in model3.**"
   ]
  },
  {
   "cell_type": "code",
   "execution_count": 27,
   "metadata": {
    "lines_to_next_cell": 0
   },
   "outputs": [
    {
     "name": "stdout",
     "output_type": "stream",
     "text": [
      "VIF threshold: 15.45466"
     ]
    },
    {
     "data": {
      "text/html": [
       "<table>\n",
       "<thead><tr><th></th><th scope=col>GVIF</th><th scope=col>Df</th><th scope=col>GVIF^(1/(2*Df))</th></tr></thead>\n",
       "<tbody>\n",
       "\t<tr><th scope=row>Species</th><td>2.654472</td><td>6       </td><td>1.084755</td></tr>\n",
       "\t<tr><th scope=row>Total.Length</th><td>2.654472</td><td>1       </td><td>1.629255</td></tr>\n",
       "</tbody>\n",
       "</table>\n"
      ],
      "text/latex": [
       "\\begin{tabular}{r|lll}\n",
       "  & GVIF & Df & GVIF\\textasciicircum{}(1/(2*Df))\\\\\n",
       "\\hline\n",
       "\tSpecies & 2.654472 & 6        & 1.084755\\\\\n",
       "\tTotal.Length & 2.654472 & 1        & 1.629255\\\\\n",
       "\\end{tabular}\n"
      ],
      "text/markdown": [
       "\n",
       "| <!--/--> | GVIF | Df | GVIF^(1/(2*Df)) |\n",
       "|---|---|---|---|\n",
       "| Species | 2.654472 | 6        | 1.084755 |\n",
       "| Total.Length | 2.654472 | 1        | 1.629255 |\n",
       "\n"
      ],
      "text/plain": [
       "             GVIF     Df GVIF^(1/(2*Df))\n",
       "Species      2.654472 6  1.084755       \n",
       "Total.Length 2.654472 1  1.629255       "
      ]
     },
     "metadata": {},
     "output_type": "display_data"
    }
   ],
   "source": [
    "cat(\"VIF threshold:\", max(10, 1/(1-summary(model3)$r.squared)))\n",
    "vif(model3)"
   ]
  },
  {
   "cell_type": "markdown",
   "metadata": {},
   "source": [
    "Multicollinearity is not a problem in the model as both predictors fall below the VIF threshold.\n"
   ]
  },
  {
   "cell_type": "markdown",
   "metadata": {
    "lines_to_next_cell": 0
   },
   "source": [
    "**(b) Conduct residual analysis for model3 (similar to Q4). Comment on each assumption and whether they hold.**"
   ]
  },
  {
   "cell_type": "code",
   "execution_count": 28,
   "metadata": {
    "lines_to_next_cell": 0
   },
   "outputs": [
    {
     "data": {
      "text/html": [
       "<dl class=dl-horizontal>\n",
       "\t<dt>37</dt>\n",
       "\t\t<dd>36</dd>\n",
       "\t<dt>124</dt>\n",
       "\t\t<dd>123</dd>\n",
       "</dl>\n"
      ],
      "text/latex": [
       "\\begin{description*}\n",
       "\\item[37] 36\n",
       "\\item[124] 123\n",
       "\\end{description*}\n"
      ],
      "text/markdown": [
       "37\n",
       ":   36124\n",
       ":   123\n",
       "\n"
      ],
      "text/plain": [
       " 37 124 \n",
       " 36 123 "
      ]
     },
     "metadata": {},
     "output_type": "display_data"
    },
    {
     "data": {
      "image/png": "[encoded data removed]",
      "text/plain": [
       "Plot with title \"Histogram of resids2\""
      ]
     },
     "metadata": {},
     "output_type": "display_data"
    }
   ],
   "source": [
    "resids2 =rstandard(model3)\n",
    "\n",
    "par(mfrow=c(2,2))\n",
    "plot(fish2$Total.Length, resids2 , main=\"lineartiy\",\n",
    "xlab=\"total length\", ylab=\"residuals\")\n",
    "abline(h=0, col=\"red\")\n",
    "lines(lowess(fish2$Total.Length, resids2), col='green')\n",
    "plot(model3$fitted.values, resids2 , main=\"constant variance\",\n",
    "xlab=\"fitted values\", ylab=\"residuals\")\n",
    "abline(h=0, col=\"red\")\n",
    "lines(lowess(model3$fitted.values, resids2), col='green')\n",
    "hist(resids2 , nclass=15)\n",
    "qqPlot(resids2)"
   ]
  },
  {
   "cell_type": "markdown",
   "metadata": {},
   "source": [
    "Plots look similar to model2 with increasinng variance and heavy right tails. \n",
    "\n",
    "Thus, linearity, constant variance, and normality assumptions do not hold."
   ]
  },
  {
   "cell_type": "markdown",
   "metadata": {},
   "source": [
    "# Question 7: Transformation [9 pts]\n",
    "\n",
    "**(a) Use model3 to find the optimal lambda, rounded to the nearest 0.5, for a Box-Cox transformation on model3.  What transformation, if any, should be applied according to the lambda value?  Please ensure you use model3**"
   ]
  },
  {
   "cell_type": "code",
   "execution_count": 30,
   "metadata": {
    "lines_to_next_cell": 0
   },
   "outputs": [
    {
     "data": {
      "image/png": "[encoded data removed]",
      "text/plain": [
       "Plot with title \"Profile Log-likelihood\""
      ]
     },
     "metadata": {},
     "output_type": "display_data"
    }
   ],
   "source": [
    "boxCox(model3)\n"
   ]
  },
  {
   "cell_type": "code",
   "execution_count": 33,
   "metadata": {},
   "outputs": [
    {
     "name": "stdout",
     "output_type": "stream",
     "text": [
      "0.5"
     ]
    }
   ],
   "source": [
    "opt.lambda<-bc$x[which.max(bc$y)]\n",
    "\n",
    "cat(round(opt.lambda/0.5)*0.5)"
   ]
  },
  {
   "cell_type": "markdown",
   "metadata": {},
   "source": [
    "Optimal lambda is 0.5, meaning a square root transformation of the response."
   ]
  },
  {
   "cell_type": "markdown",
   "metadata": {
    "lines_to_next_cell": 0
   },
   "source": [
    "**(b) Based on the results in (a), create model4 with the appropriate transformation. Display the summary.**"
   ]
  },
  {
   "cell_type": "code",
   "execution_count": 34,
   "metadata": {
    "lines_to_next_cell": 0
   },
   "outputs": [
    {
     "data": {
      "text/plain": [
       "\n",
       "Call:\n",
       "lm(formula = Weight^(1/2) ~ Species + Total.Length, data = fish2)\n",
       "\n",
       "Residuals:\n",
       "    Min      1Q  Median      3Q     Max \n",
       "-5.0111 -0.7687 -0.0579  0.6797  4.6383 \n",
       "\n",
       "Coefficients:\n",
       "                  Estimate Std. Error t value Pr(>|t|)    \n",
       "(Intercept)       -6.96654    0.57278 -12.163  < 2e-16 ***\n",
       "SpeciesParkki     -0.36404    0.52476  -0.694   0.4890    \n",
       "SpeciesPerch      -1.95734    0.29342  -6.671 5.46e-10 ***\n",
       "SpeciesPike      -10.90490    0.45001 -24.233  < 2e-16 ***\n",
       "SpeciesRoach      -2.09340    0.40630  -5.152 8.58e-07 ***\n",
       "SpeciesSmelt      -1.04994    0.53782  -1.952   0.0529 .  \n",
       "SpeciesWhitefish  -0.55048    0.56758  -0.970   0.3338    \n",
       "Total.Length       0.95052    0.01594  59.649  < 2e-16 ***\n",
       "---\n",
       "Signif. codes:  0 '***' 0.001 '**' 0.01 '*' 0.05 '.' 0.1 ' ' 1\n",
       "\n",
       "Residual standard error: 1.28 on 140 degrees of freedom\n",
       "Multiple R-squared:  0.9817,\tAdjusted R-squared:  0.9808 \n",
       "F-statistic:  1074 on 7 and 140 DF,  p-value: < 2.2e-16\n"
      ]
     },
     "metadata": {},
     "output_type": "display_data"
    }
   ],
   "source": [
    "model4<-lm(Weight^(1/2)~ Species + Total.Length, data=fish2)\n",
    "summary(model4)"
   ]
  },
  {
   "cell_type": "markdown",
   "metadata": {},
   "source": []
  },
  {
   "cell_type": "markdown",
   "metadata": {
    "lines_to_next_cell": 0
   },
   "source": [
    "**(c) Perform Residual Analysis on model4. Comment on each assumption.  Was the transformation successful/unsuccessful?**"
   ]
  },
  {
   "cell_type": "code",
   "execution_count": 35,
   "metadata": {
    "lines_to_next_cell": 0
   },
   "outputs": [
    {
     "data": {
      "text/html": [
       "<dl class=dl-horizontal>\n",
       "\t<dt>131</dt>\n",
       "\t\t<dd>130</dd>\n",
       "\t<dt>141</dt>\n",
       "\t\t<dd>140</dd>\n",
       "</dl>\n"
      ],
      "text/latex": [
       "\\begin{description*}\n",
       "\\item[131] 130\n",
       "\\item[141] 140\n",
       "\\end{description*}\n"
      ],
      "text/markdown": [
       "131\n",
       ":   130141\n",
       ":   140\n",
       "\n"
      ],
      "text/plain": [
       "131 141 \n",
       "130 140 "
      ]
     },
     "metadata": {},
     "output_type": "display_data"
    },
    {
     "data": {
      "image/png": "[encoded data removed]",
      "text/plain": [
       "Plot with title \"Histogram of resids3\""
      ]
     },
     "metadata": {},
     "output_type": "display_data"
    }
   ],
   "source": [
    "resids3 =rstandard(model4)\n",
    "\n",
    "par(mfrow=c(2,2))\n",
    "plot(fish2$Total.Length, resids3, main=\"lineartiy\",\n",
    "xlab=\"total length\", ylab=\"residuals\")\n",
    "abline(h=0, col=\"red\")\n",
    "lines(lowess(fish2$Total.Length, resids3), col='green')\n",
    "plot(model4$fitted.values, resids3, main=\"constant variance\",\n",
    "xlab=\"fitted values\", ylab=\"residuals\")\n",
    "abline(h=0, col=\"red\")\n",
    "lines(lowess(model4$fitted.values, resids3), col='green')\n",
    "hist(resids3, nclass=15)\n",
    "qqPlot(resids3)\n"
   ]
  },
  {
   "cell_type": "markdown",
   "metadata": {},
   "source": [
    "Linearity assumption appears to hold as residuals are randomly scattered about 0.\n",
    "\n",
    "Variance does not appear to increase/decrease as values increase, so constant variance assumption holds.\n",
    "\n",
    "Normality appears to hold from the histogram and QQplot.\n",
    "\n",
    "Overall, transformation appears successful."
   ]
  },
  {
   "cell_type": "markdown",
   "metadata": {},
   "source": [
    "# Question 8: Model Comparison  [2 pts]\n",
    "\n",
    "**(a) Using each model summary, compare and discuss the R-squared and Adjusted R-squared of model2, model3, and model4.**\n",
    "\n"
   ]
  },
  {
   "cell_type": "markdown",
   "metadata": {},
   "source": [
    "Model4 has a much higher (~0.05) Rsquared and Adjusted R value compared to model2 & model3. So, model4 appears to be the superior model among the 3."
   ]
  },
  {
   "cell_type": "markdown",
   "metadata": {},
   "source": [
    "# Question 9: Prediction [8 points]\n",
    "\n",
    "**(a) Predict Weights for the last 10 rows of data (fishtest) using both model3 and model4.  Compare and discuss the mean squared prediction error (MSPE) of both models.**"
   ]
  },
  {
   "cell_type": "code",
   "execution_count": 40,
   "metadata": {
    "lines_to_next_cell": 0
   },
   "outputs": [
    {
     "name": "stdout",
     "output_type": "stream",
     "text": [
      "model3 MSPE:  9392.25"
     ]
    }
   ],
   "source": [
    "pred3<-predict(model3, fishtest)\n",
    "mse.model3<-mean((pred3-fishtest$Weight)^2)\n",
    "\n",
    "pred4<-predict(model4, fishtest)^2\n",
    "mse.model4<-mean((pred4-fishtest$Weight)^2)\n",
    "\n",
    "cat(\"model3 MSPE: \", mse.model3)"
   ]
  },
  {
   "cell_type": "code",
   "execution_count": 41,
   "metadata": {},
   "outputs": [
    {
     "name": "stdout",
     "output_type": "stream",
     "text": [
      "model4 MSPE:  2442.998"
     ]
    }
   ],
   "source": [
    "cat(\"model4 MSPE: \", mse.model4)"
   ]
  },
  {
   "cell_type": "markdown",
   "metadata": {},
   "source": [
    "Model4's MSPE is smaller and would be preferred over model3."
   ]
  },
  {
   "cell_type": "markdown",
   "metadata": {},
   "source": [
    "**(b) Suppose you have found a Perch fish with a Body.Height of 28 cm, and a Total.Length of 32 cm. Using model4, predict the weight on this fish with a 90% prediction interval.  Provide an interpretation of the prediction interval.**"
   ]
  },
  {
   "cell_type": "code",
   "execution_count": 42,
   "metadata": {
    "lines_to_next_cell": 0
   },
   "outputs": [
    {
     "data": {
      "text/html": [
       "<table>\n",
       "<thead><tr><th scope=col>fit</th><th scope=col>lwr</th><th scope=col>upr</th></tr></thead>\n",
       "<tbody>\n",
       "\t<tr><td>461.9429</td><td>374.4536</td><td>558.6091</td></tr>\n",
       "</tbody>\n",
       "</table>\n"
      ],
      "text/latex": [
       "\\begin{tabular}{r|lll}\n",
       " fit & lwr & upr\\\\\n",
       "\\hline\n",
       "\t 461.9429 & 374.4536 & 558.6091\\\\\n",
       "\\end{tabular}\n"
      ],
      "text/markdown": [
       "\n",
       "| fit | lwr | upr |\n",
       "|---|---|---|\n",
       "| 461.9429 | 374.4536 | 558.6091 |\n",
       "\n"
      ],
      "text/plain": [
       "  fit      lwr      upr     \n",
       "1 461.9429 374.4536 558.6091"
      ]
     },
     "metadata": {},
     "output_type": "display_data"
    }
   ],
   "source": [
    "perch<-data.frame(Species=\"Perch\", Total.Length=32)\n",
    "\n",
    "predict(model4, perch, interval=\"prediction\", level=0.9)^2"
   ]
  },
  {
   "cell_type": "markdown",
   "metadata": {},
   "source": [
    "Using the perch fish measurements provided, model4 predicts the perch to weigh 461.9429 grams with a 90% confidence interval of 374 and 558grams."
   ]
  },
  {
   "cell_type": "code",
   "execution_count": null,
   "metadata": {},
   "outputs": [],
   "source": []
  }
 ],
 "metadata": {
  "jupytext": {
   "cell_metadata_filter": "name,tags,-all",
   "main_language": "R",
   "notebook_metadata_filter": "-all"
  },
  "kernelspec": {
   "display_name": "R",
   "language": "R",
   "name": "ir"
  },
  "language_info": {
   "codemirror_mode": "r",
   "file_extension": ".r",
   "mimetype": "text/x-r-source",
   "name": "R",
   "pygments_lexer": "r",
   "version": "3.6.1"
  }
 },
 "nbformat": 4,
 "nbformat_minor": 2
}
