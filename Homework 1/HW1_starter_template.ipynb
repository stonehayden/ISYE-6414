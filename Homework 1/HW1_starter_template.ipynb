{
 "cells": [
  {
   "cell_type": "markdown",
   "metadata": {},
   "source": []
  },
  {
   "cell_type": "markdown",
   "metadata": {},
   "source": [
    "# Part A. ANOVA\n",
    "\n",
    "Additional Material: ANOVA tutorial\n",
    "\n",
    "https://datascienceplus.com/one-way-anova-in-r/\n",
    "\n",
    "Jet lag is a common problem for people traveling across multiple time zones, but people can gradually adjust to the new time zone since the exposure of the shifted light schedule to their eyes can resets the internal circadian rhythm in a process called “phase shift”. Campbell and Murphy (1998) in a highly controversial study reported that the human circadian clock can also be reset by only exposing the back of the knee to light, with some hailing this as a major discovery and others challenging aspects of the experimental design. The table below is taken from a later experiment by Wright and Czeisler (2002) that re-examined the phenomenon. The new experiment measured circadian rhythm through the daily cycle of melatonin production in 22 subjects randomly assigned to one of three light treatments. Subjects were woken from sleep and for three hours were exposed to bright lights applied to the eyes only, to the knees only or to neither (control group). The effects of treatment to the circadian rhythm were measured two days later by the magnitude of phase shift (measured in hours) in each subject’s daily cycle of melatonin production. A negative measurement indicates a delay in melatonin production, a predicted effect of light treatment, while a positive number indicates an advance.\n",
    "\n",
    "Raw data of phase shift, in hours, for the circadian rhythm experiment\n",
    "\n",
    "|Treatment|Phase Shift (hr)                            |\n",
    "|:--------|:-------------------------------------------|\n",
    "|Control  |0.53, 0.36, 0.20, -0.37, -0.60, -0.64, -0.68, -1.27|\n",
    "|Knees    |0.73, 0.31, 0.03, -0.29, -0.56, -0.96, -1.61       |\n",
    "|Eyes     |-0.78, -0.86, -1.35, -1.48, -1.52, -2.04, -2.83    |\n",
    "\n",
    "## Question A1 - 3 pts\n",
    "\n",
    "Consider the following incomplete R output:\n",
    "\n",
    "|Source|Df |Sum of Squares|Mean Squares|F-statistics|p-value|\n",
    "|:----:|:-:|:------------:|:----------:|:----------:|:-----:|\n",
    "|Treatments|?|?|3.6122|?|0.004|\n",
    "|Error|?|9.415|?| | |\n",
    "|TOTAL|?|?| | | |\n",
    "\n",
    "Fill in the missing values in the analysis of the variance table.Note: Missing values can be calculated using the corresponding formulas provided in the lectures, or you can build the data frame in R and generate the ANOVA table using the aov() function. Either approach will be accepted."
   ]
  },
  {
   "cell_type": "code",
   "execution_count": 1,
   "metadata": {},
   "outputs": [
    {
     "name": "stderr",
     "output_type": "stream",
     "text": [
      "\n",
      "Attaching package: 'dplyr'\n",
      "\n",
      "The following objects are masked from 'package:stats':\n",
      "\n",
      "    filter, lag\n",
      "\n",
      "The following objects are masked from 'package:base':\n",
      "\n",
      "    intersect, setdiff, setequal, union\n",
      "\n",
      "No id variables; using all as measure variables\n"
     ]
    },
    {
     "name": "stdout",
     "output_type": "stream",
     "text": [
      "   Treatment Phase Shift(hr)\n",
      "1    Control            0.53\n",
      "2    Control            0.36\n",
      "3    Control            0.20\n",
      "4    Control           -0.37\n",
      "5    Control           -0.60\n",
      "6    Control           -0.64\n",
      "7    Control           -0.68\n",
      "8    Control           -1.27\n",
      "9      Knees            0.73\n",
      "10     Knees            0.31\n",
      "11     Knees            0.03\n",
      "12     Knees           -0.29\n",
      "13     Knees           -0.56\n",
      "14     Knees           -0.96\n",
      "15     Knees           -1.61\n",
      "16     Knees              NA\n",
      "17      Eyes           -0.78\n",
      "18      Eyes           -0.86\n",
      "19      Eyes           -1.35\n",
      "20      Eyes           -1.48\n",
      "21      Eyes           -1.52\n",
      "22      Eyes           -2.04\n",
      "23      Eyes           -2.83\n",
      "24      Eyes              NA\n",
      "[1] \"ANOVA Table\"\n",
      "               Df Sum Sq Mean Sq F value  Pr(>F)   \n",
      "data$Treatment  2  7.224   3.612   7.289 0.00447 **\n",
      "Residuals      19  9.415   0.496                   \n",
      "---\n",
      "Signif. codes:  0 '***' 0.001 '**' 0.01 '*' 0.05 '.' 0.1 ' ' 1\n",
      "2 observations deleted due to missingness\n"
     ]
    }
   ],
   "source": [
    "library(reshape2)\n",
    "library(dplyr)\n",
    "Control = c(0.53, 0.36, 0.2, -0.37,-0.6, -0.64,-0.68,-1.27)\n",
    "Knees = c(0.73, 0.31, 0.03, -0.29, -0.56, -0.96, -1.61, NA)\n",
    "Eyes = c(-0.78, -0.86, -1.35, -1.48, -1.52, -2.04, -2.83, NA)\n",
    "data = data.frame(cbind(Control,Knees, Eyes))%>%melt()\n",
    "colnames(data) = c('Treatment', 'Phase Shift(hr)')\n",
    "print(data)\n",
    "\n",
    "print('ANOVA Table')\n",
    "model = aov(data$`Phase Shift(hr)`~data$Treatment)\n",
    "print(summary(model))"
   ]
  },
  {
   "cell_type": "markdown",
   "metadata": {},
   "source": [
    "## Question A2 - 3 pts\n",
    "\n",
    "Use $\\mu_1$, $\\mu_2$, and $\\mu_3$  as notation for the three mean parameters and define these parameters clearly based on the context of the topic above(i.e. explain what  $\\mu_1$, $\\mu_2$, and $\\mu_3$ mean in words in the context of this problem). Find the estimates of these parameters."
   ]
  },
  {
   "cell_type": "code",
   "execution_count": 2,
   "metadata": {},
   "outputs": [
    {
     "data": {
      "text/plain": [
       "Tables of means\n",
       "Grand mean\n",
       "           \n",
       "-0.7127273 \n",
       "\n",
       " data$Treatment \n",
       "    Control   Knees   Eyes\n",
       "    -0.3088 -0.3357 -1.551\n",
       "rep  8.0000  7.0000  7.000"
      ]
     },
     "metadata": {},
     "output_type": "display_data"
    }
   ],
   "source": [
    "model.tables(model, type=\"mean\")"
   ]
  },
  {
   "cell_type": "markdown",
   "metadata": {},
   "source": [
    "𝜇1 , 𝜇2, and 𝜇3 are the means in phase shift of the control, knees, and eyes groups, respectively."
   ]
  },
  {
   "cell_type": "markdown",
   "metadata": {},
   "source": [
    "## Question A3 - 5 pts\n",
    "\n",
    "Use the ANOVA table in Question A1 to answer the following questions:\n",
    "\n",
    "a. **1 pts** Write the null hypothesis of the ANOVA $F$-test, $H_0$\n",
    "\n",
    "$H_0$: 𝜇1 = 𝜇2 = 𝜇3\n",
    "\n",
    "\n",
    "b. **1 pts** Write the alternative hypothesis of the ANOVA $F$-test, $H_A$\n",
    "\n",
    "$H_A$: means are different\n",
    "\n",
    "\n",
    "c. **1 pts** Fill in the blanks for the degrees of freedom of the ANOVA $F$-test statistic:   $F(____, _____)$\n",
    "\n",
    "F(2,19)\n",
    "\n",
    "d. **1 pts** What is the p-value of the ANOVA $F$-test?\n",
    "\n",
    "0.00447\n",
    "\n",
    "e. **1 pts** According the the results of the ANOVA $F$-test, does light treatment affect phase shift?  Use an $\\alpha$-level of 0.05.\n",
    "\n",
    "Yes it does, shown by p-value of the ANOVA F-test being less than 0.05.\n"
   ]
  },
  {
   "cell_type": "markdown",
   "metadata": {},
   "source": [
    "# Part B. Simple Linear Regression\n",
    "\n",
    "We are going to use regression analysis to estimate the performance of CPUs based on the maximum number of channels in the CPU.  This data set comes from the UCI Machine Learning Repository.\n",
    "\n",
    "The data file includes the following columns:\n",
    "\n",
    "* *vendor*: vendor of the CPU\n",
    "* *chmax*: maximum channels in the CPU\n",
    "* *performance*: published relative performance of the CPU\n",
    "\n",
    "The data is in the file \"machine.csv\". To read the data in `R`, save the file in your working directory (make sure you have changed the directory if different from the R working directory) and read the data using the `R` function `read.csv()`."
   ]
  },
  {
   "cell_type": "code",
   "execution_count": 3,
   "metadata": {},
   "outputs": [
    {
     "data": {
      "text/html": [
       "<table>\n",
       "<thead><tr><th scope=col>vendor</th><th scope=col>chmax</th><th scope=col>performance</th></tr></thead>\n",
       "<tbody>\n",
       "\t<tr><td>adviser</td><td>128    </td><td>198    </td></tr>\n",
       "\t<tr><td>amdahl </td><td> 32    </td><td>269    </td></tr>\n",
       "\t<tr><td>amdahl </td><td> 32    </td><td>220    </td></tr>\n",
       "</tbody>\n",
       "</table>\n"
      ],
      "text/latex": [
       "\\begin{tabular}{r|lll}\n",
       " vendor & chmax & performance\\\\\n",
       "\\hline\n",
       "\t adviser & 128     & 198    \\\\\n",
       "\t amdahl  &  32     & 269    \\\\\n",
       "\t amdahl  &  32     & 220    \\\\\n",
       "\\end{tabular}\n"
      ],
      "text/markdown": [
       "\n",
       "| vendor | chmax | performance |\n",
       "|---|---|---|\n",
       "| adviser | 128     | 198     |\n",
       "| amdahl  |  32     | 269     |\n",
       "| amdahl  |  32     | 220     |\n",
       "\n"
      ],
      "text/plain": [
       "  vendor  chmax performance\n",
       "1 adviser 128   198        \n",
       "2 amdahl   32   269        \n",
       "3 amdahl   32   220        "
      ]
     },
     "metadata": {},
     "output_type": "display_data"
    }
   ],
   "source": [
    "# Read in the data\n",
    "data = read.csv(\"machine.csv\", head = TRUE, sep = \",\")\n",
    "# Show the first few rows of data\n",
    "head(data, 3)"
   ]
  },
  {
   "cell_type": "markdown",
   "metadata": {},
   "source": [
    "## Question B1: Exploratory Data Analysis - 9 pts\n",
    "\n",
    "a. **3 pts** Use a scatter plot to describe the relationship between CPU performance and the maximum number of channels. Describe the general trend (direction and form). Include plots and R-code used."
   ]
  },
  {
   "cell_type": "code",
   "execution_count": 4,
   "metadata": {},
   "outputs": [
    {
     "data": {
      "image/png": "[encoded data removed]",
      "text/plain": [
       "plot without title"
      ]
     },
     "metadata": {},
     "output_type": "display_data"
    }
   ],
   "source": [
    "plot(data[,2], data[,3], xlab = 'Max CPU Channels', ylab = 'CPU Performance')"
   ]
  },
  {
   "cell_type": "markdown",
   "metadata": {},
   "source": [
    "Appears to be a positive correlation between number of CPU channels and CPU performance"
   ]
  },
  {
   "cell_type": "markdown",
   "metadata": {},
   "source": [
    "b. **3 pts** What is the value of the correlation coefficient between _performance_ and _chmax_? Please interpret the strength of the correlation based on the correlation coefficient."
   ]
  },
  {
   "cell_type": "code",
   "execution_count": 5,
   "metadata": {},
   "outputs": [
    {
     "data": {
      "text/html": [
       "0.605209292812674"
      ],
      "text/latex": [
       "0.605209292812674"
      ],
      "text/markdown": [
       "0.605209292812674"
      ],
      "text/plain": [
       "[1] 0.6052093"
      ]
     },
     "metadata": {},
     "output_type": "display_data"
    }
   ],
   "source": [
    "cor(data[,2], data[,3])"
   ]
  },
  {
   "cell_type": "markdown",
   "metadata": {},
   "source": [
    "Correlation of 0.61 would be a positive moderate correlation."
   ]
  },
  {
   "cell_type": "markdown",
   "metadata": {},
   "source": [
    "c. **2 pts** Based on this exploratory analysis, would you recommend a simple linear regression model for the relationship?\n",
    "\n",
    "Based on the analysis above, a linear regresion model is reasonable and would be recommended.\n",
    "\n",
    "d. **1 pts** Based on the analysis above, would you pursue a transformation of the data? *Do not transform the data.*\n",
    "\n",
    "Based solely on the analysis above, I wouldn't pursue a transformation of the data.\n",
    "\n",
    "## Question B2: Fitting the Simple Linear Regression Model - 11 pts\n",
    "\n",
    "Fit a linear regression model, named *model1*, to evaluate the relationship between performance and the maximum number of channels. *Do not transform the data.* The function you should use in R is:"
   ]
  },
  {
   "cell_type": "code",
   "execution_count": 6,
   "metadata": {},
   "outputs": [
    {
     "data": {
      "text/plain": [
       "\n",
       "Call:\n",
       "lm(formula = performance ~ chmax, data = data)\n",
       "\n",
       "Residuals:\n",
       "    Min      1Q  Median      3Q     Max \n",
       "-486.47  -42.20  -22.20   20.31  867.15 \n",
       "\n",
       "Coefficients:\n",
       "            Estimate Std. Error t value Pr(>|t|)    \n",
       "(Intercept)  37.2252    10.8587   3.428 0.000733 ***\n",
       "chmax         3.7441     0.3423  10.938  < 2e-16 ***\n",
       "---\n",
       "Signif. codes:  0 '***' 0.001 '**' 0.01 '*' 0.05 '.' 0.1 ' ' 1\n",
       "\n",
       "Residual standard error: 128.3 on 207 degrees of freedom\n",
       "Multiple R-squared:  0.3663,\tAdjusted R-squared:  0.3632 \n",
       "F-statistic: 119.6 on 1 and 207 DF,  p-value: < 2.2e-16\n"
      ]
     },
     "metadata": {},
     "output_type": "display_data"
    }
   ],
   "source": [
    "# Your code here...\n",
    "model1 = lm(performance ~ chmax, data)\n",
    "\n",
    "summary(model1)"
   ]
  },
  {
   "cell_type": "markdown",
   "metadata": {},
   "source": [
    "a. **3 pts** What are the model parameters and what are their estimates? \n",
    "\n",
    "Parameters: B0 = 37.2252 , B1 = 3.7441\n",
    "\n",
    "b. **2 pts** Write down the estimated simple linear regression equation.\n",
    "\n",
    "y = 3.7441(x) + 37.2252. x: cpu channels, y: cpu performance\n",
    "\n",
    "c. **2 pts** Interpret the estimated value of the $\\beta_1$ parameter in the context of the problem.\n",
    "\n",
    "B1 is the increased value per unit increase. AKA CPU performance increases 3.7441 per additional CPU channel\n",
    "\n",
    "d. **2 pts** Find a 95% confidence interval for the $\\beta_1$ parameter. Is $\\beta_1$ statistically significant at this level?"
   ]
  },
  {
   "cell_type": "code",
   "execution_count": 7,
   "metadata": {},
   "outputs": [
    {
     "data": {
      "text/html": [
       "<table>\n",
       "<thead><tr><th></th><th scope=col>2.5 %</th><th scope=col>97.5 %</th></tr></thead>\n",
       "<tbody>\n",
       "\t<tr><th scope=row>(Intercept)</th><td>15.817392</td><td>58.633048</td></tr>\n",
       "\t<tr><th scope=row>chmax</th><td> 3.069251</td><td> 4.418926</td></tr>\n",
       "</tbody>\n",
       "</table>\n"
      ],
      "text/latex": [
       "\\begin{tabular}{r|ll}\n",
       "  & 2.5 \\% & 97.5 \\%\\\\\n",
       "\\hline\n",
       "\t(Intercept) & 15.817392 & 58.633048\\\\\n",
       "\tchmax &  3.069251 &  4.418926\\\\\n",
       "\\end{tabular}\n"
      ],
      "text/markdown": [
       "\n",
       "| <!--/--> | 2.5 % | 97.5 % |\n",
       "|---|---|---|\n",
       "| (Intercept) | 15.817392 | 58.633048 |\n",
       "| chmax |  3.069251 |  4.418926 |\n",
       "\n"
      ],
      "text/plain": [
       "            2.5 %     97.5 %   \n",
       "(Intercept) 15.817392 58.633048\n",
       "chmax        3.069251  4.418926"
      ]
     },
     "metadata": {},
     "output_type": "display_data"
    }
   ],
   "source": [
    "confint (model1, level = 0.95)"
   ]
  },
  {
   "cell_type": "markdown",
   "metadata": {},
   "source": [
    "As seen above, confidence interval for B1 is [3.069251, 4.418926], which is statistically significant"
   ]
  },
  {
   "cell_type": "markdown",
   "metadata": {},
   "source": [
    "e. **2 pts** Is $\\beta_1$ statistically significantly positive at an $\\alpha$-level of 0.01?  What is the approximate p-value of this test?\n",
    "\n",
    "B1 is statistically significant. P-value is very small at 1e^-16\n",
    "\n",
    "## Question B3: Checking the Assumptions of the Model - 8 pts\n",
    "\n",
    "Create and interpret the following graphs with respect to the assumptions of the linear regression model. In other words, comment on whether there are any apparent departures from the assumptions of the linear regression model. Make sure that you state the model assumptions and assess each one.  Each graph may be used to assess one or more model assumptions.\n",
    "\n",
    "a. **2 pts** Scatterplot of the data with *chmax* on the x-axis and *performance* on the y-axis"
   ]
  },
  {
   "cell_type": "code",
   "execution_count": 8,
   "metadata": {},
   "outputs": [
    {
     "data": {
      "image/png": "[encoded data removed]",
      "text/plain": [
       "plot without title"
      ]
     },
     "metadata": {},
     "output_type": "display_data"
    }
   ],
   "source": [
    "plot(data[,2], data[,3], xlab=\"Chmax\", ylab= \"Performace\")"
   ]
  },
  {
   "cell_type": "markdown",
   "metadata": {},
   "source": [
    "**Model Assumption(s) it checks:** linearity\n",
    "\n",
    "**Interpretation:** No departures from above assumptions as it's the same graph\n",
    "\n",
    "b. **3 pts** Residual plot - a plot of the residuals, $\\hat\\epsilon_i$, versus the fitted values, $\\hat{y}_i$"
   ]
  },
  {
   "cell_type": "code",
   "execution_count": 9,
   "metadata": {},
   "outputs": [
    {
     "data": {
      "image/png": "[encoded data removed]",
      "text/plain": [
       "plot without title"
      ]
     },
     "metadata": {},
     "output_type": "display_data"
    }
   ],
   "source": [
    "plot(model1$fitted, model1$residuals)"
   ]
  },
  {
   "cell_type": "markdown",
   "metadata": {},
   "source": [
    "**Model Assumption(s) it checks:** Variance\n",
    "\n",
    "**Interpretation:** Points don't appear too random so a linear model may be a bad fit, but some randomness does appear to be present?\n",
    "\n",
    "c. **3 pts** Histogram and q-q plot of the residuals"
   ]
  },
  {
   "cell_type": "code",
   "execution_count": 10,
   "metadata": {},
   "outputs": [
    {
     "data": {
      "image/png": "[encoded data removed]",
      "text/plain": [
       "Plot with title \"Normal Q-Q Plot\""
      ]
     },
     "metadata": {},
     "output_type": "display_data"
    }
   ],
   "source": [
    "qqnorm(model1$residuals)\n",
    "qqline(model1$residuals)"
   ]
  },
  {
   "cell_type": "code",
   "execution_count": 11,
   "metadata": {},
   "outputs": [
    {
     "data": {
      "image/png": "[encoded data removed]",
      "text/plain": [
       "Plot with title \"Histogram of model1$residuals\""
      ]
     },
     "metadata": {},
     "output_type": "display_data"
    }
   ],
   "source": [
    "hist(model1$residuals)"
   ]
  },
  {
   "cell_type": "markdown",
   "metadata": {},
   "source": [
    "**Model Assumption(s) it checks:** Normal distribution\n",
    "\n",
    "**Interpretation:** Tails stray from line which indicates they're not normally distributed"
   ]
  },
  {
   "cell_type": "markdown",
   "metadata": {},
   "source": [
    "## Question B4: Improving the Fit - 10 pts\n",
    "\n",
    "a. **2 pts** Use a Box-Cox transformation (`boxCox()`) in `car()` package or (`boxCox()`) in `MASS()` package) to find the optimal $\\lambda$ value rounded to the nearest half integer.  What transformation of the response, if any, does it suggest to perform?"
   ]
  },
  {
   "cell_type": "code",
   "execution_count": 12,
   "metadata": {},
   "outputs": [
    {
     "name": "stderr",
     "output_type": "stream",
     "text": [
      "Loading required package: carData\n",
      "\n",
      "Attaching package: 'car'\n",
      "\n",
      "The following object is masked from 'package:dplyr':\n",
      "\n",
      "    recode\n",
      "\n"
     ]
    },
    {
     "data": {
      "image/png": "[encoded data removed]",
      "text/plain": [
       "Plot with title \"Profile Log-likelihood\""
      ]
     },
     "metadata": {},
     "output_type": "display_data"
    }
   ],
   "source": [
    "library(car)\n",
    "y = data[,3]\n",
    "x = data[,2]\n",
    "boxCox(y~x, lambda = seq(-2,2,0.5))"
   ]
  },
  {
   "cell_type": "markdown",
   "metadata": {},
   "source": [
    "lambda is near 0, indicating a log transformation be performed"
   ]
  },
  {
   "cell_type": "markdown",
   "metadata": {},
   "source": [
    "b. **2 pts** Create a linear regression model, named *model2*, that uses the log transformed *performance* as the response, and the log transformed *chmax* as the predictor. Note: The variable *chmax* has a couple of zero values which will cause problems when taking the natural log. Please add one to the predictor before taking the natural log of it"
   ]
  },
  {
   "cell_type": "code",
   "execution_count": 13,
   "metadata": {},
   "outputs": [
    {
     "data": {
      "text/plain": [
       "\n",
       "Call:\n",
       "lm(formula = log(performance) ~ log(chmax), data = data)\n",
       "\n",
       "Residuals:\n",
       "     Min       1Q   Median       3Q      Max \n",
       "-2.22543 -0.59429  0.01065  0.59287  1.85995 \n",
       "\n",
       "Coefficients:\n",
       "            Estimate Std. Error t value Pr(>|t|)    \n",
       "(Intercept)  2.47655    0.14152    17.5   <2e-16 ***\n",
       "log(chmax)   0.64819    0.05401    12.0   <2e-16 ***\n",
       "---\n",
       "Signif. codes:  0 '***' 0.001 '**' 0.01 '*' 0.05 '.' 0.1 ' ' 1\n",
       "\n",
       "Residual standard error: 0.807 on 207 degrees of freedom\n",
       "Multiple R-squared:  0.4103,\tAdjusted R-squared:  0.4074 \n",
       "F-statistic:   144 on 1 and 207 DF,  p-value: < 2.2e-16\n"
      ]
     },
     "metadata": {},
     "output_type": "display_data"
    }
   ],
   "source": [
    "data$chmax = data$chmax+1\n",
    "model2 = lm(log(performance) ~ log(chmax), data)\n",
    "summary(model2)"
   ]
  },
  {
   "cell_type": "markdown",
   "metadata": {},
   "source": [
    "c. **2 pts** Compare the R-squared values of *model1* and *model2*.  Did the transformation improve the explanatory power of the model?\n",
    "\n",
    "The transformation improved the explanatory power of the model, seen by in the increase by ~0.05 in the R-squared value\n",
    "\n",
    "d. **4 pts** Similar to Question B3, assess and interpret all model assumptions of *model2*.  A model is considered a good fit if all assumptions hold. Based on your interpretation of the model assumptions, is *model2* a good fit?"
   ]
  },
  {
   "cell_type": "code",
   "execution_count": 14,
   "metadata": {},
   "outputs": [
    {
     "data": {
      "image/png": "[encoded data removed]",
      "text/plain": [
       "plot without title"
      ]
     },
     "metadata": {},
     "output_type": "display_data"
    }
   ],
   "source": [
    "plot(log(data[,2]), log(data[,3]), xlab=\"Log of Chmax\", ylab= \"Log of Performace\")"
   ]
  },
  {
   "cell_type": "code",
   "execution_count": 15,
   "metadata": {},
   "outputs": [
    {
     "data": {
      "image/png": "[encoded data removed]",
      "text/plain": [
       "plot without title"
      ]
     },
     "metadata": {},
     "output_type": "display_data"
    }
   ],
   "source": [
    "plot(model2$fitted, model2$residuals)"
   ]
  },
  {
   "cell_type": "code",
   "execution_count": 16,
   "metadata": {},
   "outputs": [
    {
     "data": {
      "image/png": "[encoded data removed]",
      "text/plain": [
       "Plot with title \"Normal Q-Q Plot\""
      ]
     },
     "metadata": {},
     "output_type": "display_data"
    }
   ],
   "source": [
    "qqnorm(model2$residuals)\n",
    "qqline(model2$residuals)"
   ]
  },
  {
   "cell_type": "code",
   "execution_count": 17,
   "metadata": {},
   "outputs": [
    {
     "data": {
      "image/png": "[encoded data removed]",
      "text/plain": [
       "Plot with title \"Histogram of model2$residuals\""
      ]
     },
     "metadata": {},
     "output_type": "display_data"
    }
   ],
   "source": [
    "hist(model2$residuals)"
   ]
  },
  {
   "cell_type": "markdown",
   "metadata": {},
   "source": [
    "Assumption:\n",
    "Linearity: Linearity appears improved under transformed model.\n",
    "Variance: Variance appears met with a much more randomly scattered plot\n",
    "Normality: Distribution appears more normal from histogram and less tail deviation on the QQ plot\n",
    "\n",
    "Based on all of the above, model2 appears to be a better fit than model1."
   ]
  },
  {
   "cell_type": "markdown",
   "metadata": {},
   "source": [
    "## Question B5: Prediction - 3 pts\n",
    "\n",
    "Suppose we are interested in predicting CPU performance when `chmax = 128`.  Please make a prediction using both *model1* and *model2* and provide the 95% prediction interval of each prediction on the original scale of the response, *performance*. What observations can you make about the result in the context of the problem?"
   ]
  },
  {
   "cell_type": "code",
   "execution_count": 18,
   "metadata": {},
   "outputs": [
    {
     "data": {
      "text/html": [
       "<table>\n",
       "<thead><tr><th scope=col>fit</th><th scope=col>lwr</th><th scope=col>upr</th></tr></thead>\n",
       "<tbody>\n",
       "\t<tr><td>516.4685</td><td>252.2519</td><td>780.6851</td></tr>\n",
       "</tbody>\n",
       "</table>\n"
      ],
      "text/latex": [
       "\\begin{tabular}{r|lll}\n",
       " fit & lwr & upr\\\\\n",
       "\\hline\n",
       "\t 516.4685 & 252.2519 & 780.6851\\\\\n",
       "\\end{tabular}\n"
      ],
      "text/markdown": [
       "\n",
       "| fit | lwr | upr |\n",
       "|---|---|---|\n",
       "| 516.4685 | 252.2519 | 780.6851 |\n",
       "\n"
      ],
      "text/plain": [
       "  fit      lwr      upr     \n",
       "1 516.4685 252.2519 780.6851"
      ]
     },
     "metadata": {},
     "output_type": "display_data"
    },
    {
     "data": {
      "text/html": [
       "<table>\n",
       "<thead><tr><th scope=col>fit</th><th scope=col>lwr</th><th scope=col>upr</th></tr></thead>\n",
       "<tbody>\n",
       "\t<tr><td>3.500295</td><td>1.903049</td><td>5.09754 </td></tr>\n",
       "</tbody>\n",
       "</table>\n"
      ],
      "text/latex": [
       "\\begin{tabular}{r|lll}\n",
       " fit & lwr & upr\\\\\n",
       "\\hline\n",
       "\t 3.500295 & 1.903049 & 5.09754 \\\\\n",
       "\\end{tabular}\n"
      ],
      "text/markdown": [
       "\n",
       "| fit | lwr | upr |\n",
       "|---|---|---|\n",
       "| 3.500295 | 1.903049 | 5.09754  |\n",
       "\n"
      ],
      "text/plain": [
       "  fit      lwr      upr    \n",
       "1 3.500295 1.903049 5.09754"
      ]
     },
     "metadata": {},
     "output_type": "display_data"
    }
   ],
   "source": [
    "chmax = data.frame(chmax=128)\n",
    "log_chmax = data.frame(chmax=log(128))\n",
    "predict(model1,chmax,interval = \"predict\",level=0.95)\n",
    "predict(model2,log_chmax,interval = \"predict\",level=0.95)"
   ]
  },
  {
   "cell_type": "markdown",
   "metadata": {},
   "source": [
    "The models give stark differences in predictions. However, the wide variability in prediction range in model1 compared to model2 show that model2 is more accurate."
   ]
  },
  {
   "cell_type": "markdown",
   "metadata": {},
   "source": [
    "# Part C. ANOVA - 8 pts\n",
    "\n",
    "We are going to continue using the CPU data set to analyse various vendors in the data set.  There are over 20 vendors in the data set.  To simplify the task, we are going to limit our analysis to three vendors, specifically, honeywell, hp, and nas.  The code to filter for those vendors is provided below."
   ]
  },
  {
   "cell_type": "code",
   "execution_count": 19,
   "metadata": {},
   "outputs": [],
   "source": [
    "# Filter for honeywell, hp, and nas\n",
    "data2 = data[data$vendor %in% c(\"honeywell\", \"hp\", \"nas\"), ]\n",
    "data2$vendor = factor(data2$vendor)"
   ]
  },
  {
   "cell_type": "markdown",
   "metadata": {},
   "source": [
    "1. **2 pts** Using `data2`, create a boxplot of *performance* and *vendor*, with *performance* on the vertical axis.  Interpret the plots.  "
   ]
  },
  {
   "cell_type": "code",
   "execution_count": 20,
   "metadata": {},
   "outputs": [
    {
     "data": {
      "image/png": "[encoded data removed]",
      "text/plain": [
       "plot without title"
      ]
     },
     "metadata": {},
     "output_type": "display_data"
    }
   ],
   "source": [
    "boxplot(data2$performance~data2$vendor, data = data2, xlab='Vendor', ylab = 'Performance')"
   ]
  },
  {
   "cell_type": "markdown",
   "metadata": {},
   "source": [
    "Honeywell and Nas have higher median performance than hp, with honeywell having a couple outliers in performance. nas performs the best but has a much higher range in performance. HP is the worst performing, but also the most consistent in performance."
   ]
  },
  {
   "cell_type": "markdown",
   "metadata": {},
   "source": [
    "2. **3 pts** Perform an ANOVA F-test on the means of the three vendors.  Using an $\\alpha$-level of 0.05, can we reject the null hypothesis that the means of the three vendors are equal?  Please interpret."
   ]
  },
  {
   "cell_type": "code",
   "execution_count": 21,
   "metadata": {},
   "outputs": [
    {
     "data": {
      "text/plain": [
       "            Df Sum Sq Mean Sq F value  Pr(>F)   \n",
       "vendor       2 154494   77247   6.027 0.00553 **\n",
       "Residuals   36 461443   12818                   \n",
       "---\n",
       "Signif. codes:  0 '***' 0.001 '**' 0.01 '*' 0.05 '.' 0.1 ' ' 1"
      ]
     },
     "metadata": {},
     "output_type": "display_data"
    }
   ],
   "source": [
    "summary(aov(performance~vendor, data = data2))"
   ]
  },
  {
   "cell_type": "markdown",
   "metadata": {},
   "source": [
    "The p-value is less than 0.05, thus we reject the null hypothesis that the means of the three vendors are equal."
   ]
  },
  {
   "cell_type": "markdown",
   "metadata": {},
   "source": [
    "3. **3 pts** Perform a Tukey pairwise comparison between the three vendors. Using an $\\alpha$-level of 0.05, which means are statistically significantly different from each other?"
   ]
  },
  {
   "cell_type": "code",
   "execution_count": 22,
   "metadata": {},
   "outputs": [
    {
     "data": {
      "text/plain": [
       "  Tukey multiple comparisons of means\n",
       "    95% family-wise confidence level\n",
       "\n",
       "Fit: aov(formula = performance ~ vendor, data = data2)\n",
       "\n",
       "$vendor\n",
       "                   diff        lwr      upr     p adj\n",
       "hp-honeywell  -24.03297 -153.76761 105.7017 0.8934786\n",
       "nas-honeywell 116.43320   16.82659 216.0398 0.0188830\n",
       "nas-hp        140.46617   18.11095 262.8214 0.0214092\n"
      ]
     },
     "metadata": {},
     "output_type": "display_data"
    }
   ],
   "source": [
    "TukeyHSD(aov(performance~vendor, data = data2))"
   ]
  },
  {
   "cell_type": "markdown",
   "metadata": {},
   "source": [
    "nas' mean is startistically significantly different from the other vendors."
   ]
  },
  {
   "cell_type": "code",
   "execution_count": null,
   "metadata": {},
   "outputs": [],
   "source": []
  }
 ],
 "metadata": {
  "jupytext": {
   "cell_metadata_filter": "tags,name,-all",
   "main_language": "R",
   "notebook_metadata_filter": "-all"
  },
  "kernelspec": {
   "display_name": "R",
   "language": "R",
   "name": "ir"
  },
  "language_info": {
   "codemirror_mode": "r",
   "file_extension": ".r",
   "mimetype": "text/x-r-source",
   "name": "R",
   "pygments_lexer": "r",
   "version": "3.6.1"
  }
 },
 "nbformat": 4,
 "nbformat_minor": 2
}
